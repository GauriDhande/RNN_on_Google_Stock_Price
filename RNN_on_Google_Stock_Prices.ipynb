{
 "cells": [
  {
   "cell_type": "code",
   "execution_count": 1,
   "metadata": {
    "collapsed": true
   },
   "outputs": [],
   "source": [
    "import warnings\n",
    "warnings.filterwarnings('ignore')"
   ]
  },
  {
   "cell_type": "code",
   "execution_count": 23,
   "metadata": {
    "collapsed": true
   },
   "outputs": [],
   "source": [
    "#Part 1: Preprocessing\n",
    "#Importing the libraries\n",
    "import numpy as np\n",
    "import matplotlib.pyplot as plt\n",
    "import pandas as pd"
   ]
  },
  {
   "cell_type": "code",
   "execution_count": 3,
   "metadata": {
    "collapsed": true
   },
   "outputs": [],
   "source": [
    "#Importing the dataset\n",
    "dataset_train = pd.read_csv('Google_Stock_Price_Train.csv')\n",
    "training_set = dataset_train.iloc[:, 1:2].values #.values creates the numpy array"
   ]
  },
  {
   "cell_type": "code",
   "execution_count": 4,
   "metadata": {
    "collapsed": true
   },
   "outputs": [],
   "source": [
    "#Feature scaling\n",
    "from sklearn.preprocessing import MinMaxScaler\n",
    "sc = MinMaxScaler(feature_range = (0, 1))\n",
    "training_set_scaled = sc.fit_transform(training_set)"
   ]
  },
  {
   "cell_type": "code",
   "execution_count": 5,
   "metadata": {
    "collapsed": true
   },
   "outputs": [],
   "source": [
    "#Creating a data structure with 60 timesteps and 1 output\n",
    "X_train = []\n",
    "Y_train = []\n",
    "for i in range(60, 1258):\n",
    "    X_train.append(training_set_scaled[i-60 : i, 0]) #60 stock prices\n",
    "    Y_train.append(training_set_scaled[i, 0]) #t+1 timestamp stock price for predicting the next output\n",
    "X_train, Y_train = np.array(X_train), np.array(Y_train)"
   ]
  },
  {
   "cell_type": "code",
   "execution_count": 6,
   "metadata": {
    "collapsed": true
   },
   "outputs": [],
   "source": [
    "#Reshaping the unit #Adding the new dimentions to the array\n",
    "X_train = np.reshape(X_train, (X_train.shape[0], X_train.shape[1], 1))"
   ]
  },
  {
   "cell_type": "code",
   "execution_count": 7,
   "metadata": {},
   "outputs": [
    {
     "name": "stderr",
     "output_type": "stream",
     "text": [
      "Using TensorFlow backend.\n"
     ]
    }
   ],
   "source": [
    "#Part 2: Building the RNN: Stack LSTMs\n",
    "#Importing the keras libraries\n",
    "from keras.models import Sequential\n",
    "from keras.layers import Dense\n",
    "from keras.layers import LSTM\n",
    "from keras.layers import Dropout"
   ]
  },
  {
   "cell_type": "code",
   "execution_count": 8,
   "metadata": {
    "collapsed": true
   },
   "outputs": [],
   "source": [
    "#Initialising the RNNs\n",
    "regressor = Sequential()"
   ]
  },
  {
   "cell_type": "code",
   "execution_count": 9,
   "metadata": {
    "collapsed": true
   },
   "outputs": [],
   "source": [
    "#Adding first layers and Dropout regularization\n",
    "#Input_shape = 2nd and 3rd shape is considered, because 3rd will be automatically taken into account\n",
    "regressor.add(LSTM(units = 50, return_sequences = True, input_shape = (X_train.shape[1], 1)))\n",
    "regressor.add(Dropout(0.2))"
   ]
  },
  {
   "cell_type": "code",
   "execution_count": 10,
   "metadata": {
    "collapsed": true
   },
   "outputs": [],
   "source": [
    "#Adding second layers and Dropout regularization\n",
    "regressor.add(LSTM(units = 50, return_sequences = True))\n",
    "regressor.add(Dropout(0.2))"
   ]
  },
  {
   "cell_type": "code",
   "execution_count": 11,
   "metadata": {
    "collapsed": true
   },
   "outputs": [],
   "source": [
    "#Adding third layers and Dropout regularization\n",
    "regressor.add(LSTM(units = 50, return_sequences = True))\n",
    "regressor.add(Dropout(0.2))"
   ]
  },
  {
   "cell_type": "code",
   "execution_count": 12,
   "metadata": {
    "collapsed": true
   },
   "outputs": [],
   "source": [
    "#Adding fourth layers and Dropout regularization \n",
    "regressor.add(LSTM(units = 50)) #For final layer, we don't need any return ouputs\n",
    "regressor.add(Dropout(0.2)) "
   ]
  },
  {
   "cell_type": "code",
   "execution_count": 13,
   "metadata": {
    "collapsed": true
   },
   "outputs": [],
   "source": [
    "#Final/Output Layer \n",
    "regressor.add(Dense(units = 1))"
   ]
  },
  {
   "cell_type": "code",
   "execution_count": 14,
   "metadata": {
    "collapsed": true
   },
   "outputs": [],
   "source": [
    "#Compiling the RNN\n",
    "regressor.compile(optimizer = 'adam', loss = 'mean_squared_error')"
   ]
  },
  {
   "cell_type": "code",
   "execution_count": 15,
   "metadata": {},
   "outputs": [
    {
     "name": "stdout",
     "output_type": "stream",
     "text": [
      "Epoch 1/100\n",
      "1198/1198 [==============================] - 57s - loss: 0.0463    \n",
      "Epoch 2/100\n",
      "1198/1198 [==============================] - 38s - loss: 0.0074    \n",
      "Epoch 3/100\n",
      "1198/1198 [==============================] - 64s - loss: 0.0062    \n",
      "Epoch 4/100\n",
      "1198/1198 [==============================] - 36s - loss: 0.0056    \n",
      "Epoch 5/100\n",
      "1198/1198 [==============================] - 69s - loss: 0.0051    \n",
      "Epoch 6/100\n",
      "1198/1198 [==============================] - 72s - loss: 0.0051    \n",
      "Epoch 7/100\n",
      "1198/1198 [==============================] - 79s - loss: 0.0054    \n",
      "Epoch 8/100\n",
      "1198/1198 [==============================] - 77s - loss: 0.0050    \n",
      "Epoch 9/100\n",
      "1198/1198 [==============================] - 81s - loss: 0.0048    \n",
      "Epoch 10/100\n",
      "1198/1198 [==============================] - 93s - loss: 0.0042    \n",
      "Epoch 11/100\n",
      "1198/1198 [==============================] - 63s - loss: 0.0046    \n",
      "Epoch 12/100\n",
      "1198/1198 [==============================] - 78s - loss: 0.0039    \n",
      "Epoch 13/100\n",
      "1198/1198 [==============================] - 66s - loss: 0.0042    \n",
      "Epoch 14/100\n",
      "1198/1198 [==============================] - 85s - loss: 0.0040    \n",
      "Epoch 15/100\n",
      "1198/1198 [==============================] - 85s - loss: 0.0039    \n",
      "Epoch 16/100\n",
      "1198/1198 [==============================] - 94s - loss: 0.0037    \n",
      "Epoch 17/100\n",
      "1198/1198 [==============================] - 79s - loss: 0.0041    \n",
      "Epoch 18/100\n",
      "1198/1198 [==============================] - 78s - loss: 0.0037    \n",
      "Epoch 19/100\n",
      "1198/1198 [==============================] - 75s - loss: 0.0036    \n",
      "Epoch 20/100\n",
      "1198/1198 [==============================] - 100s - loss: 0.0039   \n",
      "Epoch 21/100\n",
      "1198/1198 [==============================] - 41s - loss: 0.0034    \n",
      "Epoch 22/100\n",
      "1198/1198 [==============================] - 37s - loss: 0.0031    \n",
      "Epoch 23/100\n",
      "1198/1198 [==============================] - 66s - loss: 0.0033    \n",
      "Epoch 24/100\n",
      "1198/1198 [==============================] - 67s - loss: 0.0035    \n",
      "Epoch 25/100\n",
      "1198/1198 [==============================] - 79s - loss: 0.0036    \n",
      "Epoch 26/100\n",
      "1198/1198 [==============================] - 50s - loss: 0.0031    \n",
      "Epoch 27/100\n",
      "1198/1198 [==============================] - 34s - loss: 0.0028    \n",
      "Epoch 28/100\n",
      "1198/1198 [==============================] - 35s - loss: 0.0028    \n",
      "Epoch 29/100\n",
      "1198/1198 [==============================] - 34s - loss: 0.0029    \n",
      "Epoch 30/100\n",
      "1198/1198 [==============================] - 35s - loss: 0.0029    \n",
      "Epoch 31/100\n",
      "1198/1198 [==============================] - 33s - loss: 0.0030    \n",
      "Epoch 32/100\n",
      "1198/1198 [==============================] - 33s - loss: 0.0028    \n",
      "Epoch 33/100\n",
      "1198/1198 [==============================] - 33s - loss: 0.0027    \n",
      "Epoch 34/100\n",
      "1198/1198 [==============================] - 34s - loss: 0.0026    \n",
      "Epoch 35/100\n",
      "1198/1198 [==============================] - 33s - loss: 0.0028    \n",
      "Epoch 36/100\n",
      "1198/1198 [==============================] - 36s - loss: 0.0025    \n",
      "Epoch 37/100\n",
      "1198/1198 [==============================] - 34s - loss: 0.0029    \n",
      "Epoch 38/100\n",
      "1198/1198 [==============================] - 33s - loss: 0.0028    \n",
      "Epoch 39/100\n",
      "1198/1198 [==============================] - 34s - loss: 0.0026    \n",
      "Epoch 40/100\n",
      "1198/1198 [==============================] - 34s - loss: 0.0027    \n",
      "Epoch 41/100\n",
      "1198/1198 [==============================] - 33s - loss: 0.0027    \n",
      "Epoch 42/100\n",
      "1198/1198 [==============================] - 33s - loss: 0.0025    \n",
      "Epoch 43/100\n",
      "1198/1198 [==============================] - 33s - loss: 0.0029    \n",
      "Epoch 44/100\n",
      "1198/1198 [==============================] - 34s - loss: 0.0028    \n",
      "Epoch 45/100\n",
      "1198/1198 [==============================] - 33s - loss: 0.0027    \n",
      "Epoch 46/100\n",
      "1198/1198 [==============================] - 33s - loss: 0.0027    \n",
      "Epoch 47/100\n",
      "1198/1198 [==============================] - 34s - loss: 0.0025    \n",
      "Epoch 48/100\n",
      "1198/1198 [==============================] - 34s - loss: 0.0029    \n",
      "Epoch 49/100\n",
      "1198/1198 [==============================] - 33s - loss: 0.0023    \n",
      "Epoch 50/100\n",
      "1198/1198 [==============================] - 33s - loss: 0.0023    \n",
      "Epoch 51/100\n",
      "1198/1198 [==============================] - 34s - loss: 0.0023    \n",
      "Epoch 52/100\n",
      "1198/1198 [==============================] - 34s - loss: 0.0021    \n",
      "Epoch 53/100\n",
      "1198/1198 [==============================] - 34s - loss: 0.0021    \n",
      "Epoch 54/100\n",
      "1198/1198 [==============================] - 34s - loss: 0.0025    \n",
      "Epoch 55/100\n",
      "1198/1198 [==============================] - 34s - loss: 0.0024    \n",
      "Epoch 56/100\n",
      "1198/1198 [==============================] - 34s - loss: 0.0023    \n",
      "Epoch 57/100\n",
      "1198/1198 [==============================] - 33s - loss: 0.0023    \n",
      "Epoch 58/100\n",
      "1198/1198 [==============================] - 34s - loss: 0.0021    \n",
      "Epoch 59/100\n",
      "1198/1198 [==============================] - 34s - loss: 0.0021    \n",
      "Epoch 60/100\n",
      "1198/1198 [==============================] - 34s - loss: 0.0021    \n",
      "Epoch 61/100\n",
      "1198/1198 [==============================] - 33s - loss: 0.0019    \n",
      "Epoch 62/100\n",
      "1198/1198 [==============================] - 34s - loss: 0.0022    \n",
      "Epoch 63/100\n",
      "1198/1198 [==============================] - 34s - loss: 0.0022    \n",
      "Epoch 64/100\n",
      "1198/1198 [==============================] - 33s - loss: 0.0019    \n",
      "Epoch 65/100\n",
      "1198/1198 [==============================] - 34s - loss: 0.0022    \n",
      "Epoch 66/100\n",
      "1198/1198 [==============================] - 34s - loss: 0.0019    \n",
      "Epoch 67/100\n",
      "1198/1198 [==============================] - 34s - loss: 0.0019    \n",
      "Epoch 68/100\n",
      "1198/1198 [==============================] - 34s - loss: 0.0018    \n",
      "Epoch 69/100\n",
      "1198/1198 [==============================] - 34s - loss: 0.0022    \n",
      "Epoch 70/100\n",
      "1198/1198 [==============================] - 34s - loss: 0.0018    \n",
      "Epoch 71/100\n",
      "1198/1198 [==============================] - 34s - loss: 0.0018    \n",
      "Epoch 72/100\n",
      "1198/1198 [==============================] - 34s - loss: 0.0018    \n",
      "Epoch 73/100\n",
      "1198/1198 [==============================] - 34s - loss: 0.0019    \n",
      "Epoch 74/100\n",
      "1198/1198 [==============================] - 34s - loss: 0.0016    \n",
      "Epoch 75/100\n",
      "1198/1198 [==============================] - 34s - loss: 0.0018    \n",
      "Epoch 76/100\n",
      "1198/1198 [==============================] - 34s - loss: 0.0014    \n",
      "Epoch 77/100\n",
      "1198/1198 [==============================] - 34s - loss: 0.0017    \n",
      "Epoch 78/100\n",
      "1198/1198 [==============================] - 34s - loss: 0.0018    \n",
      "Epoch 79/100\n",
      "1198/1198 [==============================] - 34s - loss: 0.0016    \n",
      "Epoch 80/100\n",
      "1198/1198 [==============================] - 34s - loss: 0.0017    \n",
      "Epoch 81/100\n",
      "1198/1198 [==============================] - 34s - loss: 0.0018    \n",
      "Epoch 82/100\n",
      "1198/1198 [==============================] - 34s - loss: 0.0017    \n",
      "Epoch 83/100\n",
      "1198/1198 [==============================] - 34s - loss: 0.0016    \n",
      "Epoch 84/100\n",
      "1198/1198 [==============================] - 34s - loss: 0.0017    \n",
      "Epoch 85/100\n",
      "1198/1198 [==============================] - 34s - loss: 0.0016    \n",
      "Epoch 86/100\n",
      "1198/1198 [==============================] - 34s - loss: 0.0018    \n",
      "Epoch 87/100\n",
      "1198/1198 [==============================] - 34s - loss: 0.0018    \n",
      "Epoch 88/100\n",
      "1198/1198 [==============================] - 34s - loss: 0.0016    \n",
      "Epoch 89/100\n",
      "1198/1198 [==============================] - 34s - loss: 0.0015    \n",
      "Epoch 90/100\n",
      "1198/1198 [==============================] - 34s - loss: 0.0016    \n",
      "Epoch 91/100\n",
      "1198/1198 [==============================] - 34s - loss: 0.0015    \n",
      "Epoch 92/100\n",
      "1198/1198 [==============================] - 34s - loss: 0.0015    \n",
      "Epoch 93/100\n",
      "1198/1198 [==============================] - 34s - loss: 0.0015    \n",
      "Epoch 94/100\n",
      "1198/1198 [==============================] - 34s - loss: 0.0014    \n",
      "Epoch 95/100\n",
      "1198/1198 [==============================] - 34s - loss: 0.0017    \n",
      "Epoch 96/100\n",
      "1198/1198 [==============================] - 34s - loss: 0.0014    \n",
      "Epoch 97/100\n",
      "1198/1198 [==============================] - 34s - loss: 0.0015    \n",
      "Epoch 98/100\n",
      "1198/1198 [==============================] - 34s - loss: 0.0015    \n",
      "Epoch 99/100\n",
      "1198/1198 [==============================] - 34s - loss: 0.0016    \n",
      "Epoch 100/100\n",
      "1198/1198 [==============================] - 34s - loss: 0.0014    \n"
     ]
    },
    {
     "data": {
      "text/plain": [
       "<keras.callbacks.History at 0x7f4e932f9490>"
      ]
     },
     "execution_count": 15,
     "metadata": {},
     "output_type": "execute_result"
    }
   ],
   "source": [
    "#Fitting the RNN to the training set\n",
    "regressor.fit(X_train, Y_train, epochs = 100, batch_size = 32)"
   ]
  },
  {
   "cell_type": "code",
   "execution_count": 16,
   "metadata": {
    "collapsed": true
   },
   "outputs": [],
   "source": [
    "#Part 3: Making the predictions and visualising the results\n",
    "#Getting real stock price of 2017\n",
    "#Importing the test dataset\n",
    "dataset_test = pd.read_csv('Google_Stock_Price_Test.csv')\n",
    "real_stock_price = dataset_test.iloc[:, 1:2].values"
   ]
  },
  {
   "cell_type": "code",
   "execution_count": 17,
   "metadata": {
    "collapsed": true
   },
   "outputs": [],
   "source": [
    "#Getting predicted stock price of 2017\n",
    "dataset_total = pd.concat((dataset_train['Open'], dataset_test['Open']), axis = 0)\n",
    "inputs = dataset_total[len(dataset_total) - len(dataset_test) - 60:].values\n",
    "inputs = inputs.reshape(-1,1)\n",
    "inputs = sc.transform(inputs)\n"
   ]
  },
  {
   "cell_type": "code",
   "execution_count": 18,
   "metadata": {
    "collapsed": true
   },
   "outputs": [],
   "source": [
    "#Creating a data structure with 60 timesteps and 1 output\n",
    "X_test = []\n",
    "for i in range(60, 80):\n",
    "    X_test.append(inputs[i-60 : i, 0]) #60 stock prices\n",
    "X_test = np.array(X_test)"
   ]
  },
  {
   "cell_type": "code",
   "execution_count": 19,
   "metadata": {
    "collapsed": true
   },
   "outputs": [],
   "source": [
    "#Reshaping the unit #Adding the new dimentions to the array\n",
    "X_test = np.reshape(X_test, (X_test.shape[0], X_test.shape[1], 1))"
   ]
  },
  {
   "cell_type": "code",
   "execution_count": 21,
   "metadata": {},
   "outputs": [
    {
     "name": "stdout",
     "output_type": "stream",
     "text": [
      "[[787.1098 ]\n",
      " [784.28467]\n",
      " [783.6103 ]\n",
      " [784.6879 ]\n",
      " [787.91534]\n",
      " [793.70996]\n",
      " [799.80664]\n",
      " [803.3081 ]\n",
      " [804.2533 ]\n",
      " [803.8271 ]\n",
      " [803.1119 ]\n",
      " [802.53546]\n",
      " [802.223  ]\n",
      " [802.5732 ]\n",
      " [803.4413 ]\n",
      " [807.2377 ]\n",
      " [813.7874 ]\n",
      " [821.60046]\n",
      " [827.01105]\n",
      " [825.0495 ]]\n"
     ]
    }
   ],
   "source": [
    "#predict the test values \n",
    "predicted_stock_price = regressor.predict(X_test)\n",
    "predicted_stock_price = sc.inverse_transform(predicted_stock_price)\n",
    "print(predicted_stock_price)"
   ]
  },
  {
   "cell_type": "code",
   "execution_count": 24,
   "metadata": {},
   "outputs": [
    {
     "data": {
      "image/png": "[encoded data removed]",
      "text/plain": [
       "<matplotlib.figure.Figure at 0x7f4e8f054f10>"
      ]
     },
     "metadata": {},
     "output_type": "display_data"
    }
   ],
   "source": [
    "#Visualising the results\n",
    "plt.plot(real_stock_price, color = 'red', label = 'Real Google Stock Price')\n",
    "plt.plot(predicted_stock_price, color = 'blue', label = 'Predicted Google Stock Price')\n",
    "ply.title('Google Stock Price Prediction')\n",
    "plt.xlabel('Time')\n",
    "plt.ylabel('Google Stock Price')\n",
    "plt.legend()\n",
    "ply.show()"
   ]
  },
  {
   "cell_type": "code",
   "execution_count": null,
   "metadata": {
    "collapsed": true
   },
   "outputs": [],
   "source": []
  }
 ],
 "metadata": {
  "kernelspec": {
   "display_name": "Python 3",
   "language": "python",
   "name": "python3"
  },
  "language_info": {
   "codemirror_mode": {
    "name": "ipython",
    "version": 2
   },
   "file_extension": ".py",
   "mimetype": "text/x-python",
   "name": "python",
   "nbconvert_exporter": "python",
   "pygments_lexer": "ipython2",
   "version": "2.7.12"
  }
 },
 "nbformat": 4,
 "nbformat_minor": 2
}
